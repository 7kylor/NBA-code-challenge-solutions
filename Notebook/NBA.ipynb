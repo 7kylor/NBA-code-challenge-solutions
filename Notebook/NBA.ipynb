{
 "cells": [
  {
   "cell_type": "markdown",
   "id": "a708200d",
   "metadata": {},
   "source": [
    "<h1 align=center style=\"line-height:200%;font-family:vazir;color:#0099cc\">\n",
    "<font face=\"vazir\" color=\"#0099cc\">\n",
    "    Basketball Players\n",
    "</font>\n",
    "</h1>"
   ]
  },
  {
   "cell_type": "markdown",
   "id": "bd684f23",
   "metadata": {},
   "source": [
    "<p dir=rtl style=\"direction: rtl;text-align: right;line-height:200%;font-family:vazir;font-size:medium\">\n",
    "    <font face=\"vazir\" size=3>\n",
    "        In this task, we are going to analyze the performance data of NBA basketball players.\n",
    "        Just follow the steps as requested.\n",
    "    </font>\n",
    "</p>"
   ]
  },
  {
   "cell_type": "markdown",
   "id": "8c60fd2f",
   "metadata": {},
   "source": [
    "<h2 align=right style=\"line-height:200%;font-family:vazir;color:#0099cc\">\n",
    "    <font face=\"vazir\" color=\"#0099cc\">\n",
    "        Dataset\n",
    "    </font>\n",
    "</h2>\n",
    "\n",
    "<p dir=rtl style=\"direction: rtl;text-align: right;line-height:200%;font-family:vazir;font-size:medium\">\n",
    "    <font face=\"vazir\" size=3>\n",
    "        The dataset provided includes performance information for NBA players from the 2000 to 2009 seasons.\n",
    "    This dataset contains 1830 rows and 18 columns, with each row representing a player's data for one season. The column descriptions are provided in the table below.\n",
    "    </font>\n",
    "</p>\n",
    "\n",
    "<center>\n",
    "<div dir=rtl style=\"direction: rtl;line-height:200%;font-family:vazir;font-size:medium\">\n",
    "<font face=\"vazir\" size=3>\n",
    "    \n",
    "|Column|Description|\n",
    "|:------:|:---:|\n",
    "|<code>PLAYER</code>|Player's Name|\n",
    "|<code>TEAM</code>|Abbreviation of the player's team in that season|\n",
    "|<code>YEAR</code>|Year (season of competition)|\n",
    "|<code>GP</code>|Games Played|\n",
    "|<code>MIN</code>|Average minutes played|\n",
    "|<code>PTS</code>|Average points|\n",
    "|<code>FGM</code>|Average successful 2-point field goals made|\n",
    "|<code>FGA</code>|Average total 2-point field goals attempted|\n",
    "|<code>3PM</code>|Average successful 3-point field goals made|\n",
    "|<code>3PA</code>|Average total 3-point field goals attempted|\n",
    "|<code>FTM</code>|Average successful free throws made|\n",
    "|<code>FTA</code>|Average total free throws attempted|\n",
    "|<code>OREB</code>|Average offensive rebounds|\n",
    "|<code>DREB</code>|Average defensive rebounds|\n",
    "|<code>AST</code>|Average assists|\n",
    "|<code>STL</code>|Average steals|\n",
    "|<code>BLK</code>|Average blocks|\n",
    "|<code>TOV</code>|Average turnovers|\n",
    "    \n",
    "</font>\n",
    "</div>\n",
    "</center>"
   ]
  },
  {
   "cell_type": "markdown",
   "id": "59ec7fa8",
   "metadata": {},
   "source": [
    "<p dir=rtl style=\"direction: rtl; text-align: justify; line-height:200%; font-family:vazir; font-size:medium\">\n",
    "<font face=\"vazir\" size=3>\n",
    "   Use the cell below to <code>import</code> the necessary libraries, and then read the dataset located in the file named <code>NBA2000-2009.csv</code>. \n",
    "</font>\n",
    "</p>"
   ]
  },
  {
   "cell_type": "code",
   "execution_count": null,
   "id": "5842fbd0",
   "metadata": {},
   "outputs": [],
   "source": [
    "import pandas as pd\n",
    "\n",
    "df = #TODO\n",
    "df.head()"
   ]
  },
  {
   "cell_type": "markdown",
   "id": "83f6940c",
   "metadata": {},
   "source": [
    "<h2 align=right style=\"line-height:200%;font-family:vazir;color:#0099cc\">\n",
    "    <font face=\"vazir\" color=\"#0099cc\">\n",
    "        Part One\n",
    "    </font>\n",
    "</h2>\n",
    "\n",
    "<p dir=rtl style=\"direction: rtl;text-align: justify;line-height:200%;font-family:vazir;font-size:medium\">\n",
    "    <font face=\"vazir\" size=3>\n",
    "         Obtain a list of players and seasons where the player achieved double-digit stats (greater than or equal to 10) in at least 2 of the 5 main statistical categories. \n",
    "        <br>\n",
    "        The 5 main criteria are average points, average rebounds (sum of defensive and offensive rebounds), average assists, average blocks, and average steals.\n",
    "    </font>\n",
    "    <br>\n",
    "    <font face=\"vazir\" color=\"red\">\n",
    "        Output:\n",
    "    </font>\n",
    "    Store the result in a DataFrame named <code>double_double</code>.\n",
    "    This DataFrame should contain 7 columns in the following order from left to right: player name, year, average points, average assists, average rebounds, average blocks, and average steals. The entire DataFrame should be sorted in ascending order by year and then by player name. The first two rows of this DataFrame should look like this:\n",
    "</p>\n",
    "\n",
    "<center>\n",
    "<div style=\"line-height:200%;font-family:vazir;font-size:medium\">\n",
    "<font face=\"vazir\" size=3>\n",
    "    \n",
    "|PLAYER|YEAR|PTS|AST|REB|STL|BLK|\n",
    "|:---:|:---:|:---:|:---:|:---:|:---:|:---:|\n",
    "|Antonio Davis|2000|13.7|1.4|10.1|0.3|1.9|\n",
    "|Antonio McDyess|2000|20.8|2.1|12.0|0.6|1.5|\n",
    "    \n",
    "</font>\n",
    "</div>\n",
    "</center>"
   ]
  },
  {
   "cell_type": "code",
   "execution_count": null,
   "id": "3e079ea3",
   "metadata": {},
   "outputs": [],
   "source": [
    "double_double = #TODO\n"
   ]
  },
  {
   "cell_type": "markdown",
   "id": "ae2261a6",
   "metadata": {},
   "source": [
    "<h2 align=right style=\"line-height:200%;font-family:vazir;color:#0099cc\">\n",
    "    <font face=\"vazir\" color=\"#0099cc\">\n",
    "        Part Two\n",
    "    </font>\n",
    "</h2>\n",
    "\n",
    "<p dir=rtl style=\"direction: rtl;text-align: justify;line-height:200%;font-family:vazir;font-size:medium\">\n",
    "    <font face=\"vazir\" size=3>\n",
    "         Identify the most valuable players of these 10 seasons.\n",
    "        A player's value in a season is calculated using the following formula:\n",
    "    </font>\n",
    "    $$ (PTS + OREB + DREB + AST + STL + BLK) - (TOV + Missed FG + Missed FT) $$\n",
    "    Here, <code>Missed FG</code> and <code>Missed FT</code> refer to the average number of missed 2-point field goals and free throws, respectively.  \n",
    "    <br>\n",
    "    A player's value over the entire 10 seasons is the average of their value per season.\n",
    "    <br>\n",
    "    <font face=\"vazir\" color=\"red\">\n",
    "        Output:\n",
    "    </font>\n",
    "    Store the result in a DataFrame named <code>best_player</code>.\n",
    "    This DataFrame should have two columns: one for the player's name and the other for the player's value, which should be rounded to two decimal places. The DataFrame should be sorted in descending order by value and then in ascending order by player name.\n",
    "    The first two rows of this DataFrame should look like this:\n",
    "</p>\n",
    "\n",
    "<center>\n",
    "<div style=\"line-height:200%;font-family:vazir;font-size:medium\">\n",
    "<font face=\"vazir\" size=3>\n",
    "    \n",
    "|PLAYER|VALUE|\n",
    "|:------:|:---:|\n",
    "|Kevin Garnett|29.74|\n",
    "|LeBron James|27.9|\n",
    "    \n",
    "</font>\n",
    "</div>\n",
    "</center>"
   ]
  },
  {
   "cell_type": "code",
   "execution_count": null,
   "id": "7ed18159",
   "metadata": {},
   "outputs": [],
   "source": [
    "best_player= #TODO\n"
   ]
  },
  {
   "cell_type": "markdown",
   "id": "828b296d",
   "metadata": {},
   "source": [
    "<h2 align=right style=\"line-height:200%;font-family:vazir;color:#0099cc\">\n",
    "    <font face=\"vazir\" color=\"#0099cc\">\n",
    "        Part Three\n",
    "    </font>\n",
    "</h2>\n",
    "\n",
    "<p dir=rtl style=\"direction: rtl;text-align: justify;line-height:200%;font-family:vazir;font-size:medium\">\n",
    "    <font face=\"vazir\" size=3>\n",
    "         Which team scored the highest average points each year?\n",
    "        <br>\n",
    "        Note that a team's average score is the sum of its players' average scores.\n",
    "    </font>\n",
    "    <br>\n",
    "    <font face=\"vazir\" color=\"red\">\n",
    "        Output:\n",
    "    </font>\n",
    "    Store the result in a DataFrame named <code>max_PTS_of_year</code>.\n",
    "    This DataFrame should have three columns in the following order from left to right: year, team name, and average points, with the points rounded to two decimal places. The entire DataFrame should be sorted in ascending order by year. The first two rows of this DataFrame should look like this:\n",
    "</p>\n",
    "\n",
    "<center>\n",
    "<div style=\"line-height:200%;font-family:vazir;font-size:medium\">\n",
    "<font face=\"vazir\" size=3>\n",
    "    \n",
    "|YEAR|TEAM|PTS|\n",
    "|:------:|:---:|:---:|\n",
    "|2000|SAC|100.2|\n",
    "|201|LAL|95.9|\n",
    "    \n",
    "</font>\n",
    "</div>\n",
    "</center>"
   ]
  },
  {
   "cell_type": "code",
   "execution_count": null,
   "id": "50a6c2c3",
   "metadata": {},
   "outputs": [],
   "source": [
    "max_PTS_of_year = #TODO\n"
   ]
  },
  {
   "cell_type": "markdown",
   "id": "92aa3439",
   "metadata": {},
   "source": [
    "<h2 dir=rtl align=right style=\"line-height:200%;font-family:vazir;color:#0099cc\">\n",
    "<font face=\"vazir\" color=\"#0099cc\">\n",
    "<b>Submission Cell</b>\n",
    "</font>\n",
    "</h2>\n",
    "\n",
    "<p dir=rtl style=\"direction: rtl; text-align: justify; line-height:200%; font-family:vazir; font-size:medium\">\n",
    "<font face=\"vazir\" size=3>\n",
    "    To create the <code>result.zip</code> file, run the cell below. Note that before running this cell, you must save the changes made in the notebook (<code>ctrl+s</code>), otherwise, your score will be changed to zero at the end of the competition.\n",
    "    <br>\n",
    "    Also, if you are using Colab to run this notebook file, download the latest version of your notebook and place it inside the submitted <code>result.zip</code> file before submission.\n",
    "</font>"
   ]
  },
  {
   "cell_type": "code",
   "execution_count": null,
   "id": "b887c08c",
   "metadata": {},
   "outputs": [],
   "source": [
    "import zipfile\n",
    "import os\n",
    "\n",
    "if not os.path.exists(os.path.join(os.getcwd(), 'NBA.ipynb')):\n",
    "    %notebook -e NBA.ipynb\n",
    "\n",
    "double_double.to_csv('double_double.csv', index=False)\n",
    "best_player.to_csv('best_player.csv', index=False)\n",
    "max_PTS_of_year.to_csv('max_PTS_of_year.csv', index=False)\n",
    "\n",
    "def compress(file_names):\n",
    "    print(\"File Paths:\")\n",
    "    print(file_names)\n",
    "    compression = zipfile.ZIP_DEFLATED\n",
    "    with zipfile.ZipFile(\"result.zip\", mode=\"w\") as zf:\n",
    "        for file_name in file_names:\n",
    "            zf.write('./' + file_name, file_name, compress_type=compression)\n",
    "\n",
    "file_names = ['double_double.csv', 'best_player.csv', 'max_PTS_of_year.csv', 'NBA.ipynb']\n",
    "compress(file_names)"
   ]
  }
 ],
 "metadata": {
  "kernelspec": {
   "display_name": "Python 3 (ipykernel)",
   "language": "python",
   "name": "python3"
  },
  "language_info": {
   "codemirror_mode": {
    "name": "ipython",
    "version": 3
   },
   "file_extension": ".py",
   "mimetype": "text/x-python",
   "name": "python",
   "nbconvert_exporter": "python",
   "pygments_lexer": "ipython3",
   "version": "3.8.10"
  }
 },
 "nbformat": 4,
 "nbformat_minor": 5
}
